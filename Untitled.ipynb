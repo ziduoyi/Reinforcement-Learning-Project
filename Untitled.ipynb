{
 "cells": [
  {
   "cell_type": "code",
   "execution_count": 1,
   "metadata": {},
   "outputs": [],
   "source": [
    "import numpy as np"
   ]
  },
  {
   "cell_type": "code",
   "execution_count": 29,
   "id": "579784a2",
   "metadata": {},
   "outputs": [
    {
     "name": "stdout",
     "output_type": "stream",
     "text": [
      "[1.0, 1.0, 1.0, 1.0, 1.0, 1.0, 1.0, 1.0, 1.0, 1.0, 1.0, 1.0]\n"
     ]
    }
   ],
   "source": [
    "arr = np.ones((6, 6, 6))\n",
    "\n",
    "print([a[0][b] for a in arr for b in range(2)])"
   ]
  },
  {
   "cell_type": "code",
   "execution_count": 2,
   "id": "9add682c",
   "metadata": {},
   "outputs": [],
   "source": [
    "class CustomCombinedExtractor(BaseFeaturesExtractor):\n",
    "    def __init__(self, observation_space: spaces.Dict):\n",
    "        # We do not know features-dim here before going over all the items,\n",
    "        # so put something dummy for now. PyTorch requires calling\n",
    "        # nn.Module.__init__ before adding modules\n",
    "        super().__init__(observation_space, features_dim=68)\n",
    "\n",
    "        extractors = {}\n",
    "\n",
    "        total_concat_size = 0\n",
    "        # We need to know size of the output of this extractor,\n",
    "        # so go over all the spaces and compute output feature sizes\n",
    "        for key, subspace in observation_space.spaces.items():\n",
    "            if key == \"grid\":\n",
    "                # We will just downsample one channel of the image by 4x4 and flatten.\n",
    "                # Assume the image is single-channel (subspace.shape[0] == 0)\n",
    "                extractors[key] = nn.Sequential(\n",
    "            nn.Conv2d(subspace.shape[0] * subspace.shape[1], 32, kernel_size=6, stride=2, padding=0),\n",
    "            nn.ReLU(),\n",
    "            nn.Conv2d(32, 64, kernel_size=4, stride=2, padding=0),\n",
    "            nn.ReLU(),\n",
    "            nn.Conv2d(64, 64, kernel_size=2, stride=1, padding=0),\n",
    "            nn.ReLU(),\n",
    "            nn.Flatten(),\n",
    "        )\n",
    "                \n",
    "                total_concat_size += (subspace.shape[0] // 4 - 3) * (subspace.shape[1] // 4 - 3)\n",
    "            else:\n",
    "                # Run through a simple MLP\n",
    "                extractors[key] = nn.Linear(subspace.shape[0], 16)\n",
    "                total_concat_size += 16\n",
    "        \n",
    "        # Now concatenate the obtained features\n",
    "        self.extractors = nn.ModuleDict(extractors)\n",
    "        # Update the features dim manually\n",
    "        self._features_dim = total_concat_size\n",
    "\n",
    "    def forward(self, observations) -> th.Tensor:\n",
    "        encoded_tensor_list = []\n",
    "\n",
    "        # self.extractors contain nn.Modules that do all the processing.\n",
    "        for key, extractor in self.extractors.items():\n",
    "            print(observations)\n",
    "            print(key)\n",
    "            print(observations[key].shape)\n",
    "            print(extractor)\n",
    "            encoded_tensor_list.append(extractor(observations[key]))\n",
    "        # Return a (B, self._features_dim) PyTorch tensor, where B is batch dimension.\n",
    "        return th.cat(encoded_tensor_list, dim=1)"
   ]
  },
  {
   "cell_type": "code",
   "execution_count": 3,
   "id": "c9043872",
   "metadata": {},
   "outputs": [],
   "source": [
    "\n",
    "    def __init__(self, len, render_mode = True):\n",
    "        self.render_mode = render_mode\n",
    "        self.len = len\n",
    "        if render_mode == True:\n",
    "            pygame.init()\n",
    "            self.screen = pygame.display.set_mode((720, 720))      \n",
    "        # Actions we can up down left right\n",
    "        self.action_space = Discrete(4)\n",
    "        # 0=visited, 1=notvisited\n",
    "        #gym.spaces.space.Space.seed(1)\n",
    "\n",
    "        \n",
    "        self.observation_space = Dict({'grid': Box(low=0, high=1, shape=(self.len,self.len), dtype=np.uint8), 'loc': MultiDiscrete([self.len, self.len]), 'bounds': MultiDiscrete([self.len, self.len, self.len, self.len])})\n",
    "        \n",
    "        # Set length\n",
    "        self.direct = [[-1, 0], [0, 1], [1, 0], [0, -1]]\n",
    "        \n",
    "    def step(self, action):\n",
    "        reward = 0\n",
    "        arr = self.state['grid']\n",
    "        pos = self.state['loc']\n",
    "        # Apply action (no walls for now)\n",
    "        x = pos[0] + self.direct[action][0]\n",
    "        y = pos[1] + self.direct[action][1]\n",
    "        if x < 0 or x >= self.len or y < 0 or y >= self.len:\n",
    "            reward = -100.0\n",
    "            self.running_length -= 1 \n",
    "        else:\n",
    "            if arr[x][y] == 1:\n",
    "                reward = 5.0\n",
    "            elif arr[x][y] == 0:\n",
    "                reward = 0.1\n",
    "                self.running_length -= 1 \n",
    "            arr[pos[0]][pos[1]] = 0\n",
    "            pos[0] = x\n",
    "            pos[1] = y\n",
    "\n",
    "        # Reduce shower length by 1 second\n",
    "        \n",
    "        # Check if shower is done\n",
    "        if self.running_length <= 0: \n",
    "            done = True\n",
    "        else:\n",
    "            done = False\n",
    "        if self.finished():\n",
    "            reward = self.len * self.len * 6\n",
    "            done = True\n",
    "        # Set placeholder for info\n",
    "        info = {}\n",
    "        \n",
    "        # Return step information\n",
    "        return (self.state, reward, done, False, info)\n",
    "\n",
    "    def leastDist(self, x, y):\n",
    "        ret = 999999999\n",
    "        arr = self.state['grid']\n",
    "        for i in range(self.len):\n",
    "            for j in range(self.len):\n",
    "                if arr[i][j] == 1:\n",
    "                    ret = min(ret, abs(i - x) + abs(j - y))\n",
    "        return ret\n",
    "\n",
    "    def finished(self):\n",
    "        arr = self.state['grid']\n",
    "        for i in range(self.len):\n",
    "            for j in range(self.len):\n",
    "                if arr[i][j] == 1:\n",
    "                    return False\n",
    "        return True\n",
    "    \n",
    "    def render(self):\n",
    "        # Implement viz\n",
    "        if self.render_mode == True:\n",
    "            pygame.event.get()\n",
    "            gap = 720//self.len\n",
    "            arr = self.state['grid']\n",
    "            pos = self.state['loc']\n",
    "            for i in range(0, 720, gap):\n",
    "                for j in range(0, 720, gap):\n",
    "                    if arr[i//gap][j//gap] == 0:\n",
    "                        color = (255, 255, 255)\n",
    "                    elif arr[i//gap][j//gap] == 1:\n",
    "                        color = (255, 255,0)\n",
    "                    if i//gap == pos[0] and j//gap == pos[1]:\n",
    "                        color = (255, 0, 0)\n",
    "                    pygame.draw.rect(self.screen, color, (j, i, gap, gap))\n",
    "            pygame.display.update()\n",
    "    \n",
    "    \n",
    "    def reset(self, seed=None, options=None):\n",
    "        # Set starting state\n",
    "        self.state = self.observation_space.sample()\n",
    "        image = self.state['grid']\n",
    "        position = self.state['loc']\n",
    "        bounds = self.state['bounds']\n",
    "        for i in range(self.len):\n",
    "            for j in range(self.len):\n",
    "                image[i][j] = 1\n",
    "        image[0][0] = 0\n",
    "        position[0] = position[1] = 0\n",
    "        # Set length\n",
    "        self.running_length = (self.len)*(self.len)//2\n",
    "        bounds[0] = bounds[1] = 0\n",
    "        bounds[2] = bounds[3] = self.len-1\n",
    "        return self.state, {}\n",
    "    \n",
    "    def close(self):\n",
    "        pass"
   ]
  },
  {
   "cell_type": "code",
   "execution_count": 4,
   "id": "43ef4ee6",
   "metadata": {},
   "outputs": [
    {
     "data": {
      "text/plain": [
       "(OrderedDict([('bounds', array([ 0,  0, 35, 35], dtype=int64)),\n",
       "              ('grid',\n",
       "               array([[0, 1, 1, ..., 1, 1, 1],\n",
       "                      [1, 1, 1, ..., 1, 1, 1],\n",
       "                      [1, 1, 1, ..., 1, 1, 1],\n",
       "                      ...,\n",
       "                      [1, 1, 1, ..., 1, 1, 1],\n",
       "                      [1, 1, 1, ..., 1, 1, 1],\n",
       "                      [1, 1, 1, ..., 1, 1, 1]], dtype=uint8)),\n",
       "              ('loc', array([0, 0], dtype=int64))]),\n",
       " {})"
      ]
     },
     "execution_count": 4,
     "metadata": {},
     "output_type": "execute_result"
    }
   ],
   "source": [
    "env = MowerEnv(36, True)\n",
    "env.reset()"
   ]
  },
  {
   "cell_type": "code",
   "execution_count": 12,
   "id": "fc22bd1d",
   "metadata": {},
   "outputs": [],
   "source": [
    "policy_kwargs = dict(\n",
    "        features_extractor_class=CustomCombinedExtractor,\n",
    "        features_extractor_kwargs=dict(features_dim=128))"
   ]
  },
  {
   "cell_type": "code",
   "execution_count": 13,
   "id": "d8de9871",
   "metadata": {},
   "outputs": [
    {
     "name": "stdout",
     "output_type": "stream",
     "text": [
      "Using cuda device\n",
      "Wrapping the env with a `Monitor` wrapper\n",
      "Wrapping the env in a DummyVecEnv.\n"
     ]
    },
    {
     "ename": "TypeError",
     "evalue": "CustomCombinedExtractor.__init__() got an unexpected keyword argument 'grid'",
     "output_type": "error",
     "traceback": [
      "\u001b[1;31m---------------------------------------------------------------------------\u001b[0m",
      "\u001b[1;31mTypeError\u001b[0m                                 Traceback (most recent call last)",
      "Cell \u001b[1;32mIn[13], line 1\u001b[0m\n\u001b[1;32m----> 1\u001b[0m model \u001b[39m=\u001b[39m PPO(\u001b[39m\"\u001b[39;49m\u001b[39mMultiInputPolicy\u001b[39;49m\u001b[39m\"\u001b[39;49m, env, gamma\u001b[39m=\u001b[39;49m\u001b[39m0.999\u001b[39;49m, ent_coef\u001b[39m=\u001b[39;49m\u001b[39m0.0001\u001b[39;49m,verbose \u001b[39m=\u001b[39;49m \u001b[39m1\u001b[39;49m, seed \u001b[39m=\u001b[39;49m \u001b[39m112\u001b[39;49m, policy_kwargs\u001b[39m=\u001b[39;49mpolicy_kwargs)\n",
      "File \u001b[1;32mc:\\Users\\ziduo\\Python\\New Python Stuff\\Lawn Mower\\stable_baselines3\\ppo\\ppo.py:164\u001b[0m, in \u001b[0;36mPPO.__init__\u001b[1;34m(self, policy, env, learning_rate, n_steps, batch_size, n_epochs, gamma, gae_lambda, clip_range, clip_range_vf, normalize_advantage, ent_coef, vf_coef, max_grad_norm, use_sde, sde_sample_freq, target_kl, stats_window_size, tensorboard_log, policy_kwargs, verbose, seed, device, _init_setup_model)\u001b[0m\n\u001b[0;32m    161\u001b[0m \u001b[39mself\u001b[39m\u001b[39m.\u001b[39mtarget_kl \u001b[39m=\u001b[39m target_kl\n\u001b[0;32m    163\u001b[0m \u001b[39mif\u001b[39;00m _init_setup_model:\n\u001b[1;32m--> 164\u001b[0m     \u001b[39mself\u001b[39;49m\u001b[39m.\u001b[39;49m_setup_model()\n",
      "File \u001b[1;32mc:\\Users\\ziduo\\Python\\New Python Stuff\\Lawn Mower\\stable_baselines3\\ppo\\ppo.py:167\u001b[0m, in \u001b[0;36mPPO._setup_model\u001b[1;34m(self)\u001b[0m\n\u001b[0;32m    166\u001b[0m \u001b[39mdef\u001b[39;00m \u001b[39m_setup_model\u001b[39m(\u001b[39mself\u001b[39m) \u001b[39m-\u001b[39m\u001b[39m>\u001b[39m \u001b[39mNone\u001b[39;00m:\n\u001b[1;32m--> 167\u001b[0m     \u001b[39msuper\u001b[39;49m()\u001b[39m.\u001b[39;49m_setup_model()\n\u001b[0;32m    169\u001b[0m     \u001b[39m# Initialize schedules for policy/value clipping\u001b[39;00m\n\u001b[0;32m    170\u001b[0m     \u001b[39mself\u001b[39m\u001b[39m.\u001b[39mclip_range \u001b[39m=\u001b[39m get_schedule_fn(\u001b[39mself\u001b[39m\u001b[39m.\u001b[39mclip_range)\n",
      "File \u001b[1;32mc:\\Users\\ziduo\\Python\\New Python Stuff\\Lawn Mower\\stable_baselines3\\common\\on_policy_algorithm.py:123\u001b[0m, in \u001b[0;36mOnPolicyAlgorithm._setup_model\u001b[1;34m(self)\u001b[0m\n\u001b[0;32m    113\u001b[0m \u001b[39mself\u001b[39m\u001b[39m.\u001b[39mrollout_buffer \u001b[39m=\u001b[39m buffer_cls(\n\u001b[0;32m    114\u001b[0m     \u001b[39mself\u001b[39m\u001b[39m.\u001b[39mn_steps,\n\u001b[0;32m    115\u001b[0m     \u001b[39mself\u001b[39m\u001b[39m.\u001b[39mobservation_space,\n\u001b[1;32m   (...)\u001b[0m\n\u001b[0;32m    120\u001b[0m     n_envs\u001b[39m=\u001b[39m\u001b[39mself\u001b[39m\u001b[39m.\u001b[39mn_envs,\n\u001b[0;32m    121\u001b[0m )\n\u001b[0;32m    122\u001b[0m \u001b[39m# pytype:disable=not-instantiable\u001b[39;00m\n\u001b[1;32m--> 123\u001b[0m \u001b[39mself\u001b[39m\u001b[39m.\u001b[39mpolicy \u001b[39m=\u001b[39m \u001b[39mself\u001b[39;49m\u001b[39m.\u001b[39;49mpolicy_class(  \u001b[39m# type: ignore[assignment]\u001b[39;49;00m\n\u001b[0;32m    124\u001b[0m     \u001b[39mself\u001b[39;49m\u001b[39m.\u001b[39;49mobservation_space, \u001b[39mself\u001b[39;49m\u001b[39m.\u001b[39;49maction_space, \u001b[39mself\u001b[39;49m\u001b[39m.\u001b[39;49mlr_schedule, use_sde\u001b[39m=\u001b[39;49m\u001b[39mself\u001b[39;49m\u001b[39m.\u001b[39;49muse_sde, \u001b[39m*\u001b[39;49m\u001b[39m*\u001b[39;49m\u001b[39mself\u001b[39;49m\u001b[39m.\u001b[39;49mpolicy_kwargs\n\u001b[0;32m    125\u001b[0m )\n\u001b[0;32m    126\u001b[0m \u001b[39m# pytype:enable=not-instantiable\u001b[39;00m\n\u001b[0;32m    127\u001b[0m \u001b[39mself\u001b[39m\u001b[39m.\u001b[39mpolicy \u001b[39m=\u001b[39m \u001b[39mself\u001b[39m\u001b[39m.\u001b[39mpolicy\u001b[39m.\u001b[39mto(\u001b[39mself\u001b[39m\u001b[39m.\u001b[39mdevice)\n",
      "File \u001b[1;32mc:\\Users\\ziduo\\Python\\New Python Stuff\\Lawn Mower\\stable_baselines3\\common\\policies.py:854\u001b[0m, in \u001b[0;36mMultiInputActorCriticPolicy.__init__\u001b[1;34m(self, observation_space, action_space, lr_schedule, net_arch, activation_fn, ortho_init, use_sde, log_std_init, full_std, use_expln, squash_output, features_extractor_class, features_extractor_kwargs, share_features_extractor, normalize_images, optimizer_class, optimizer_kwargs)\u001b[0m\n\u001b[0;32m    834\u001b[0m \u001b[39mdef\u001b[39;00m \u001b[39m__init__\u001b[39m(\n\u001b[0;32m    835\u001b[0m     \u001b[39mself\u001b[39m,\n\u001b[0;32m    836\u001b[0m     observation_space: spaces\u001b[39m.\u001b[39mDict,\n\u001b[1;32m   (...)\u001b[0m\n\u001b[0;32m    852\u001b[0m     optimizer_kwargs: Optional[Dict[\u001b[39mstr\u001b[39m, Any]] \u001b[39m=\u001b[39m \u001b[39mNone\u001b[39;00m,\n\u001b[0;32m    853\u001b[0m ):\n\u001b[1;32m--> 854\u001b[0m     \u001b[39msuper\u001b[39;49m()\u001b[39m.\u001b[39;49m\u001b[39m__init__\u001b[39;49m(\n\u001b[0;32m    855\u001b[0m         observation_space,\n\u001b[0;32m    856\u001b[0m         action_space,\n\u001b[0;32m    857\u001b[0m         lr_schedule,\n\u001b[0;32m    858\u001b[0m         net_arch,\n\u001b[0;32m    859\u001b[0m         activation_fn,\n\u001b[0;32m    860\u001b[0m         ortho_init,\n\u001b[0;32m    861\u001b[0m         use_sde,\n\u001b[0;32m    862\u001b[0m         log_std_init,\n\u001b[0;32m    863\u001b[0m         full_std,\n\u001b[0;32m    864\u001b[0m         use_expln,\n\u001b[0;32m    865\u001b[0m         squash_output,\n\u001b[0;32m    866\u001b[0m         features_extractor_class,\n\u001b[0;32m    867\u001b[0m         features_extractor_kwargs,\n\u001b[0;32m    868\u001b[0m         share_features_extractor,\n\u001b[0;32m    869\u001b[0m         normalize_images,\n\u001b[0;32m    870\u001b[0m         optimizer_class,\n\u001b[0;32m    871\u001b[0m         optimizer_kwargs,\n\u001b[0;32m    872\u001b[0m     )\n",
      "File \u001b[1;32mc:\\Users\\ziduo\\Python\\New Python Stuff\\Lawn Mower\\stable_baselines3\\common\\policies.py:481\u001b[0m, in \u001b[0;36mActorCriticPolicy.__init__\u001b[1;34m(self, observation_space, action_space, lr_schedule, net_arch, activation_fn, ortho_init, use_sde, log_std_init, full_std, use_expln, squash_output, features_extractor_class, features_extractor_kwargs, share_features_extractor, normalize_images, optimizer_class, optimizer_kwargs)\u001b[0m\n\u001b[0;32m    478\u001b[0m \u001b[39mself\u001b[39m\u001b[39m.\u001b[39mortho_init \u001b[39m=\u001b[39m ortho_init\n\u001b[0;32m    480\u001b[0m \u001b[39mself\u001b[39m\u001b[39m.\u001b[39mshare_features_extractor \u001b[39m=\u001b[39m share_features_extractor\n\u001b[1;32m--> 481\u001b[0m \u001b[39mself\u001b[39m\u001b[39m.\u001b[39mfeatures_extractor \u001b[39m=\u001b[39m \u001b[39mself\u001b[39;49m\u001b[39m.\u001b[39;49mmake_features_extractor()\n\u001b[0;32m    482\u001b[0m \u001b[39mself\u001b[39m\u001b[39m.\u001b[39mfeatures_dim \u001b[39m=\u001b[39m \u001b[39mself\u001b[39m\u001b[39m.\u001b[39mfeatures_extractor\u001b[39m.\u001b[39mfeatures_dim\n\u001b[0;32m    483\u001b[0m \u001b[39mif\u001b[39;00m \u001b[39mself\u001b[39m\u001b[39m.\u001b[39mshare_features_extractor:\n",
      "File \u001b[1;32mc:\\Users\\ziduo\\Python\\New Python Stuff\\Lawn Mower\\stable_baselines3\\common\\policies.py:120\u001b[0m, in \u001b[0;36mBaseModel.make_features_extractor\u001b[1;34m(self)\u001b[0m\n\u001b[0;32m    118\u001b[0m \u001b[39mdef\u001b[39;00m \u001b[39mmake_features_extractor\u001b[39m(\u001b[39mself\u001b[39m) \u001b[39m-\u001b[39m\u001b[39m>\u001b[39m BaseFeaturesExtractor:\n\u001b[0;32m    119\u001b[0m \u001b[39m    \u001b[39m\u001b[39m\"\"\"Helper method to create a features extractor.\"\"\"\u001b[39;00m\n\u001b[1;32m--> 120\u001b[0m     \u001b[39mreturn\u001b[39;00m \u001b[39mself\u001b[39;49m\u001b[39m.\u001b[39;49mfeatures_extractor_class(\u001b[39mself\u001b[39;49m\u001b[39m.\u001b[39;49mobservation_space, \u001b[39m*\u001b[39;49m\u001b[39m*\u001b[39;49m\u001b[39mself\u001b[39;49m\u001b[39m.\u001b[39;49mfeatures_extractor_kwargs)\n",
      "\u001b[1;31mTypeError\u001b[0m: CustomCombinedExtractor.__init__() got an unexpected keyword argument 'grid'"
     ]
    }
   ],
   "source": [
    "model = PPO(\"MultiInputPolicy\", env, gamma=0.999, ent_coef=0.0001,verbose = 1, seed = 112, policy_kwargs=policy_kwargs)"
   ]
  },
  {
   "cell_type": "code",
   "execution_count": 8,
   "id": "7dfb7e09",
   "metadata": {},
   "outputs": [
    {
     "name": "stdout",
     "output_type": "stream",
     "text": [
      "{'bounds': tensor([[1., 0., 0., 0., 0., 0., 0., 0., 0., 0., 0., 0., 0., 0., 0., 0., 0., 0.,\n",
      "         0., 0., 0., 0., 0., 0., 0., 0., 0., 0., 0., 0., 0., 0., 0., 0., 0., 0.,\n",
      "         1., 0., 0., 0., 0., 0., 0., 0., 0., 0., 0., 0., 0., 0., 0., 0., 0., 0.,\n",
      "         0., 0., 0., 0., 0., 0., 0., 0., 0., 0., 0., 0., 0., 0., 0., 0., 0., 0.,\n",
      "         0., 0., 0., 0., 0., 0., 0., 0., 0., 0., 0., 0., 0., 0., 0., 0., 0., 0.,\n",
      "         0., 0., 0., 0., 0., 0., 0., 0., 0., 0., 0., 0., 0., 0., 0., 0., 0., 1.,\n",
      "         0., 0., 0., 0., 0., 0., 0., 0., 0., 0., 0., 0., 0., 0., 0., 0., 0., 0.,\n",
      "         0., 0., 0., 0., 0., 0., 0., 0., 0., 0., 0., 0., 0., 0., 0., 0., 0., 1.]],\n",
      "       device='cuda:0'), 'grid': tensor([[[0., 1., 1.,  ..., 1., 1., 1.],\n",
      "         [1., 1., 1.,  ..., 1., 1., 1.],\n",
      "         [1., 1., 1.,  ..., 1., 1., 1.],\n",
      "         ...,\n",
      "         [1., 1., 1.,  ..., 1., 1., 1.],\n",
      "         [1., 1., 1.,  ..., 1., 1., 1.],\n",
      "         [1., 1., 1.,  ..., 1., 1., 1.]]], device='cuda:0'), 'loc': tensor([[1., 0., 0., 0., 0., 0., 0., 0., 0., 0., 0., 0., 0., 0., 0., 0., 0., 0.,\n",
      "         0., 0., 0., 0., 0., 0., 0., 0., 0., 0., 0., 0., 0., 0., 0., 0., 0., 0.,\n",
      "         1., 0., 0., 0., 0., 0., 0., 0., 0., 0., 0., 0., 0., 0., 0., 0., 0., 0.,\n",
      "         0., 0., 0., 0., 0., 0., 0., 0., 0., 0., 0., 0., 0., 0., 0., 0., 0., 0.]],\n",
      "       device='cuda:0')}\n",
      "bounds\n",
      "torch.Size([1, 144])\n",
      "Linear(in_features=4, out_features=16, bias=True)\n"
     ]
    },
    {
     "ename": "RuntimeError",
     "evalue": "mat1 and mat2 shapes cannot be multiplied (1x144 and 4x16)",
     "output_type": "error",
     "traceback": [
      "\u001b[1;31m---------------------------------------------------------------------------\u001b[0m",
      "\u001b[1;31mRuntimeError\u001b[0m                              Traceback (most recent call last)",
      "Cell \u001b[1;32mIn[8], line 1\u001b[0m\n\u001b[1;32m----> 1\u001b[0m model\u001b[39m.\u001b[39;49mlearn(total_timesteps\u001b[39m=\u001b[39;49m\u001b[39m1500000\u001b[39;49m,  reset_num_timesteps\u001b[39m=\u001b[39;49m\u001b[39mTrue\u001b[39;49;00m)\n",
      "File \u001b[1;32mc:\\Users\\ziduo\\Python\\New Python Stuff\\Lawn Mower\\stable_baselines3\\ppo\\ppo.py:308\u001b[0m, in \u001b[0;36mPPO.learn\u001b[1;34m(self, total_timesteps, callback, log_interval, tb_log_name, reset_num_timesteps, progress_bar)\u001b[0m\n\u001b[0;32m    299\u001b[0m \u001b[39mdef\u001b[39;00m \u001b[39mlearn\u001b[39m(\n\u001b[0;32m    300\u001b[0m     \u001b[39mself\u001b[39m: SelfPPO,\n\u001b[0;32m    301\u001b[0m     total_timesteps: \u001b[39mint\u001b[39m,\n\u001b[1;32m   (...)\u001b[0m\n\u001b[0;32m    306\u001b[0m     progress_bar: \u001b[39mbool\u001b[39m \u001b[39m=\u001b[39m \u001b[39mFalse\u001b[39;00m,\n\u001b[0;32m    307\u001b[0m ) \u001b[39m-\u001b[39m\u001b[39m>\u001b[39m SelfPPO:\n\u001b[1;32m--> 308\u001b[0m     \u001b[39mreturn\u001b[39;00m \u001b[39msuper\u001b[39;49m()\u001b[39m.\u001b[39;49mlearn(\n\u001b[0;32m    309\u001b[0m         total_timesteps\u001b[39m=\u001b[39;49mtotal_timesteps,\n\u001b[0;32m    310\u001b[0m         callback\u001b[39m=\u001b[39;49mcallback,\n\u001b[0;32m    311\u001b[0m         log_interval\u001b[39m=\u001b[39;49mlog_interval,\n\u001b[0;32m    312\u001b[0m         tb_log_name\u001b[39m=\u001b[39;49mtb_log_name,\n\u001b[0;32m    313\u001b[0m         reset_num_timesteps\u001b[39m=\u001b[39;49mreset_num_timesteps,\n\u001b[0;32m    314\u001b[0m         progress_bar\u001b[39m=\u001b[39;49mprogress_bar,\n\u001b[0;32m    315\u001b[0m     )\n",
      "File \u001b[1;32mc:\\Users\\ziduo\\Python\\New Python Stuff\\Lawn Mower\\stable_baselines3\\common\\on_policy_algorithm.py:259\u001b[0m, in \u001b[0;36mOnPolicyAlgorithm.learn\u001b[1;34m(self, total_timesteps, callback, log_interval, tb_log_name, reset_num_timesteps, progress_bar)\u001b[0m\n\u001b[0;32m    256\u001b[0m \u001b[39massert\u001b[39;00m \u001b[39mself\u001b[39m\u001b[39m.\u001b[39menv \u001b[39mis\u001b[39;00m \u001b[39mnot\u001b[39;00m \u001b[39mNone\u001b[39;00m\n\u001b[0;32m    258\u001b[0m \u001b[39mwhile\u001b[39;00m \u001b[39mself\u001b[39m\u001b[39m.\u001b[39mnum_timesteps \u001b[39m<\u001b[39m total_timesteps:\n\u001b[1;32m--> 259\u001b[0m     continue_training \u001b[39m=\u001b[39m \u001b[39mself\u001b[39;49m\u001b[39m.\u001b[39;49mcollect_rollouts(\u001b[39mself\u001b[39;49m\u001b[39m.\u001b[39;49menv, callback, \u001b[39mself\u001b[39;49m\u001b[39m.\u001b[39;49mrollout_buffer, n_rollout_steps\u001b[39m=\u001b[39;49m\u001b[39mself\u001b[39;49m\u001b[39m.\u001b[39;49mn_steps)\n\u001b[0;32m    261\u001b[0m     \u001b[39mif\u001b[39;00m continue_training \u001b[39mis\u001b[39;00m \u001b[39mFalse\u001b[39;00m:\n\u001b[0;32m    262\u001b[0m         \u001b[39mbreak\u001b[39;00m\n",
      "File \u001b[1;32mc:\\Users\\ziduo\\Python\\New Python Stuff\\Lawn Mower\\stable_baselines3\\common\\on_policy_algorithm.py:169\u001b[0m, in \u001b[0;36mOnPolicyAlgorithm.collect_rollouts\u001b[1;34m(self, env, callback, rollout_buffer, n_rollout_steps)\u001b[0m\n\u001b[0;32m    166\u001b[0m \u001b[39mwith\u001b[39;00m th\u001b[39m.\u001b[39mno_grad():\n\u001b[0;32m    167\u001b[0m     \u001b[39m# Convert to pytorch tensor or to TensorDict\u001b[39;00m\n\u001b[0;32m    168\u001b[0m     obs_tensor \u001b[39m=\u001b[39m obs_as_tensor(\u001b[39mself\u001b[39m\u001b[39m.\u001b[39m_last_obs, \u001b[39mself\u001b[39m\u001b[39m.\u001b[39mdevice)\n\u001b[1;32m--> 169\u001b[0m     actions, values, log_probs \u001b[39m=\u001b[39m \u001b[39mself\u001b[39;49m\u001b[39m.\u001b[39;49mpolicy(obs_tensor)\n\u001b[0;32m    170\u001b[0m actions \u001b[39m=\u001b[39m actions\u001b[39m.\u001b[39mcpu()\u001b[39m.\u001b[39mnumpy()\n\u001b[0;32m    172\u001b[0m \u001b[39m# Rescale and perform action\u001b[39;00m\n",
      "File \u001b[1;32mc:\\Users\\ziduo\\AppData\\Local\\Programs\\Python\\Python311\\Lib\\site-packages\\torch\\nn\\modules\\module.py:1501\u001b[0m, in \u001b[0;36mModule._call_impl\u001b[1;34m(self, *args, **kwargs)\u001b[0m\n\u001b[0;32m   1496\u001b[0m \u001b[39m# If we don't have any hooks, we want to skip the rest of the logic in\u001b[39;00m\n\u001b[0;32m   1497\u001b[0m \u001b[39m# this function, and just call forward.\u001b[39;00m\n\u001b[0;32m   1498\u001b[0m \u001b[39mif\u001b[39;00m \u001b[39mnot\u001b[39;00m (\u001b[39mself\u001b[39m\u001b[39m.\u001b[39m_backward_hooks \u001b[39mor\u001b[39;00m \u001b[39mself\u001b[39m\u001b[39m.\u001b[39m_backward_pre_hooks \u001b[39mor\u001b[39;00m \u001b[39mself\u001b[39m\u001b[39m.\u001b[39m_forward_hooks \u001b[39mor\u001b[39;00m \u001b[39mself\u001b[39m\u001b[39m.\u001b[39m_forward_pre_hooks\n\u001b[0;32m   1499\u001b[0m         \u001b[39mor\u001b[39;00m _global_backward_pre_hooks \u001b[39mor\u001b[39;00m _global_backward_hooks\n\u001b[0;32m   1500\u001b[0m         \u001b[39mor\u001b[39;00m _global_forward_hooks \u001b[39mor\u001b[39;00m _global_forward_pre_hooks):\n\u001b[1;32m-> 1501\u001b[0m     \u001b[39mreturn\u001b[39;00m forward_call(\u001b[39m*\u001b[39;49margs, \u001b[39m*\u001b[39;49m\u001b[39m*\u001b[39;49mkwargs)\n\u001b[0;32m   1502\u001b[0m \u001b[39m# Do not call functions when jit is used\u001b[39;00m\n\u001b[0;32m   1503\u001b[0m full_backward_hooks, non_full_backward_hooks \u001b[39m=\u001b[39m [], []\n",
      "File \u001b[1;32mc:\\Users\\ziduo\\Python\\New Python Stuff\\Lawn Mower\\stable_baselines3\\common\\policies.py:617\u001b[0m, in \u001b[0;36mActorCriticPolicy.forward\u001b[1;34m(self, obs, deterministic)\u001b[0m\n\u001b[0;32m    609\u001b[0m \u001b[39m\u001b[39m\u001b[39m\"\"\"\u001b[39;00m\n\u001b[0;32m    610\u001b[0m \u001b[39mForward pass in all the networks (actor and critic)\u001b[39;00m\n\u001b[0;32m    611\u001b[0m \n\u001b[1;32m   (...)\u001b[0m\n\u001b[0;32m    614\u001b[0m \u001b[39m:return: action, value and log probability of the action\u001b[39;00m\n\u001b[0;32m    615\u001b[0m \u001b[39m\"\"\"\u001b[39;00m\n\u001b[0;32m    616\u001b[0m \u001b[39m# Preprocess the observation if needed\u001b[39;00m\n\u001b[1;32m--> 617\u001b[0m features \u001b[39m=\u001b[39m \u001b[39mself\u001b[39;49m\u001b[39m.\u001b[39;49mextract_features(obs)\n\u001b[0;32m    618\u001b[0m \u001b[39mif\u001b[39;00m \u001b[39mself\u001b[39m\u001b[39m.\u001b[39mshare_features_extractor:\n\u001b[0;32m    619\u001b[0m     latent_pi, latent_vf \u001b[39m=\u001b[39m \u001b[39mself\u001b[39m\u001b[39m.\u001b[39mmlp_extractor(features)\n",
      "File \u001b[1;32mc:\\Users\\ziduo\\Python\\New Python Stuff\\Lawn Mower\\stable_baselines3\\common\\policies.py:640\u001b[0m, in \u001b[0;36mActorCriticPolicy.extract_features\u001b[1;34m(self, obs)\u001b[0m\n\u001b[0;32m    633\u001b[0m \u001b[39m\u001b[39m\u001b[39m\"\"\"\u001b[39;00m\n\u001b[0;32m    634\u001b[0m \u001b[39mPreprocess the observation if needed and extract features.\u001b[39;00m\n\u001b[0;32m    635\u001b[0m \n\u001b[0;32m    636\u001b[0m \u001b[39m:param obs: Observation\u001b[39;00m\n\u001b[0;32m    637\u001b[0m \u001b[39m:return: the output of the features extractor(s)\u001b[39;00m\n\u001b[0;32m    638\u001b[0m \u001b[39m\"\"\"\u001b[39;00m\n\u001b[0;32m    639\u001b[0m \u001b[39mif\u001b[39;00m \u001b[39mself\u001b[39m\u001b[39m.\u001b[39mshare_features_extractor:\n\u001b[1;32m--> 640\u001b[0m     \u001b[39mreturn\u001b[39;00m \u001b[39msuper\u001b[39;49m()\u001b[39m.\u001b[39;49mextract_features(obs, \u001b[39mself\u001b[39;49m\u001b[39m.\u001b[39;49mfeatures_extractor)\n\u001b[0;32m    641\u001b[0m \u001b[39melse\u001b[39;00m:\n\u001b[0;32m    642\u001b[0m     pi_features \u001b[39m=\u001b[39m \u001b[39msuper\u001b[39m()\u001b[39m.\u001b[39mextract_features(obs, \u001b[39mself\u001b[39m\u001b[39m.\u001b[39mpi_features_extractor)\n",
      "File \u001b[1;32mc:\\Users\\ziduo\\Python\\New Python Stuff\\Lawn Mower\\stable_baselines3\\common\\policies.py:131\u001b[0m, in \u001b[0;36mBaseModel.extract_features\u001b[1;34m(self, obs, features_extractor)\u001b[0m\n\u001b[0;32m    123\u001b[0m \u001b[39m\u001b[39m\u001b[39m\"\"\"\u001b[39;00m\n\u001b[0;32m    124\u001b[0m \u001b[39mPreprocess the observation if needed and extract features.\u001b[39;00m\n\u001b[0;32m    125\u001b[0m \n\u001b[1;32m   (...)\u001b[0m\n\u001b[0;32m    128\u001b[0m \u001b[39m :return: The extracted features\u001b[39;00m\n\u001b[0;32m    129\u001b[0m \u001b[39m\"\"\"\u001b[39;00m\n\u001b[0;32m    130\u001b[0m preprocessed_obs \u001b[39m=\u001b[39m preprocess_obs(obs, \u001b[39mself\u001b[39m\u001b[39m.\u001b[39mobservation_space, normalize_images\u001b[39m=\u001b[39m\u001b[39mself\u001b[39m\u001b[39m.\u001b[39mnormalize_images)\n\u001b[1;32m--> 131\u001b[0m \u001b[39mreturn\u001b[39;00m features_extractor(preprocessed_obs)\n",
      "File \u001b[1;32mc:\\Users\\ziduo\\AppData\\Local\\Programs\\Python\\Python311\\Lib\\site-packages\\torch\\nn\\modules\\module.py:1501\u001b[0m, in \u001b[0;36mModule._call_impl\u001b[1;34m(self, *args, **kwargs)\u001b[0m\n\u001b[0;32m   1496\u001b[0m \u001b[39m# If we don't have any hooks, we want to skip the rest of the logic in\u001b[39;00m\n\u001b[0;32m   1497\u001b[0m \u001b[39m# this function, and just call forward.\u001b[39;00m\n\u001b[0;32m   1498\u001b[0m \u001b[39mif\u001b[39;00m \u001b[39mnot\u001b[39;00m (\u001b[39mself\u001b[39m\u001b[39m.\u001b[39m_backward_hooks \u001b[39mor\u001b[39;00m \u001b[39mself\u001b[39m\u001b[39m.\u001b[39m_backward_pre_hooks \u001b[39mor\u001b[39;00m \u001b[39mself\u001b[39m\u001b[39m.\u001b[39m_forward_hooks \u001b[39mor\u001b[39;00m \u001b[39mself\u001b[39m\u001b[39m.\u001b[39m_forward_pre_hooks\n\u001b[0;32m   1499\u001b[0m         \u001b[39mor\u001b[39;00m _global_backward_pre_hooks \u001b[39mor\u001b[39;00m _global_backward_hooks\n\u001b[0;32m   1500\u001b[0m         \u001b[39mor\u001b[39;00m _global_forward_hooks \u001b[39mor\u001b[39;00m _global_forward_pre_hooks):\n\u001b[1;32m-> 1501\u001b[0m     \u001b[39mreturn\u001b[39;00m forward_call(\u001b[39m*\u001b[39;49margs, \u001b[39m*\u001b[39;49m\u001b[39m*\u001b[39;49mkwargs)\n\u001b[0;32m   1502\u001b[0m \u001b[39m# Do not call functions when jit is used\u001b[39;00m\n\u001b[0;32m   1503\u001b[0m full_backward_hooks, non_full_backward_hooks \u001b[39m=\u001b[39m [], []\n",
      "Cell \u001b[1;32mIn[2], line 47\u001b[0m, in \u001b[0;36mCustomCombinedExtractor.forward\u001b[1;34m(self, observations)\u001b[0m\n\u001b[0;32m     45\u001b[0m     \u001b[39mprint\u001b[39m(observations[key]\u001b[39m.\u001b[39mshape)\n\u001b[0;32m     46\u001b[0m     \u001b[39mprint\u001b[39m(extractor)\n\u001b[1;32m---> 47\u001b[0m     encoded_tensor_list\u001b[39m.\u001b[39mappend(extractor(observations[key]))\n\u001b[0;32m     48\u001b[0m \u001b[39m# Return a (B, self._features_dim) PyTorch tensor, where B is batch dimension.\u001b[39;00m\n\u001b[0;32m     49\u001b[0m \u001b[39mreturn\u001b[39;00m th\u001b[39m.\u001b[39mcat(encoded_tensor_list, dim\u001b[39m=\u001b[39m\u001b[39m1\u001b[39m)\n",
      "File \u001b[1;32mc:\\Users\\ziduo\\AppData\\Local\\Programs\\Python\\Python311\\Lib\\site-packages\\torch\\nn\\modules\\module.py:1501\u001b[0m, in \u001b[0;36mModule._call_impl\u001b[1;34m(self, *args, **kwargs)\u001b[0m\n\u001b[0;32m   1496\u001b[0m \u001b[39m# If we don't have any hooks, we want to skip the rest of the logic in\u001b[39;00m\n\u001b[0;32m   1497\u001b[0m \u001b[39m# this function, and just call forward.\u001b[39;00m\n\u001b[0;32m   1498\u001b[0m \u001b[39mif\u001b[39;00m \u001b[39mnot\u001b[39;00m (\u001b[39mself\u001b[39m\u001b[39m.\u001b[39m_backward_hooks \u001b[39mor\u001b[39;00m \u001b[39mself\u001b[39m\u001b[39m.\u001b[39m_backward_pre_hooks \u001b[39mor\u001b[39;00m \u001b[39mself\u001b[39m\u001b[39m.\u001b[39m_forward_hooks \u001b[39mor\u001b[39;00m \u001b[39mself\u001b[39m\u001b[39m.\u001b[39m_forward_pre_hooks\n\u001b[0;32m   1499\u001b[0m         \u001b[39mor\u001b[39;00m _global_backward_pre_hooks \u001b[39mor\u001b[39;00m _global_backward_hooks\n\u001b[0;32m   1500\u001b[0m         \u001b[39mor\u001b[39;00m _global_forward_hooks \u001b[39mor\u001b[39;00m _global_forward_pre_hooks):\n\u001b[1;32m-> 1501\u001b[0m     \u001b[39mreturn\u001b[39;00m forward_call(\u001b[39m*\u001b[39;49margs, \u001b[39m*\u001b[39;49m\u001b[39m*\u001b[39;49mkwargs)\n\u001b[0;32m   1502\u001b[0m \u001b[39m# Do not call functions when jit is used\u001b[39;00m\n\u001b[0;32m   1503\u001b[0m full_backward_hooks, non_full_backward_hooks \u001b[39m=\u001b[39m [], []\n",
      "File \u001b[1;32mc:\\Users\\ziduo\\AppData\\Local\\Programs\\Python\\Python311\\Lib\\site-packages\\torch\\nn\\modules\\linear.py:114\u001b[0m, in \u001b[0;36mLinear.forward\u001b[1;34m(self, input)\u001b[0m\n\u001b[0;32m    113\u001b[0m \u001b[39mdef\u001b[39;00m \u001b[39mforward\u001b[39m(\u001b[39mself\u001b[39m, \u001b[39minput\u001b[39m: Tensor) \u001b[39m-\u001b[39m\u001b[39m>\u001b[39m Tensor:\n\u001b[1;32m--> 114\u001b[0m     \u001b[39mreturn\u001b[39;00m F\u001b[39m.\u001b[39;49mlinear(\u001b[39minput\u001b[39;49m, \u001b[39mself\u001b[39;49m\u001b[39m.\u001b[39;49mweight, \u001b[39mself\u001b[39;49m\u001b[39m.\u001b[39;49mbias)\n",
      "\u001b[1;31mRuntimeError\u001b[0m: mat1 and mat2 shapes cannot be multiplied (1x144 and 4x16)"
     ]
    }
   ],
   "source": [
    "model.learn(total_timesteps=1500000,  reset_num_timesteps=True)"
   ]
  }
 ],
 "metadata": {
  "kernelspec": {
   "display_name": "Python 3",
   "language": "python",
   "name": "python3"
  },
  "language_info": {
   "codemirror_mode": {
    "name": "ipython",
    "version": 3
   },
   "file_extension": ".py",
   "mimetype": "text/x-python",
   "name": "python",
   "nbconvert_exporter": "python",
   "pygments_lexer": "ipython3",
   "version": "3.11.2"
  }
 },
 "nbformat": 4,
 "nbformat_minor": 5
}
